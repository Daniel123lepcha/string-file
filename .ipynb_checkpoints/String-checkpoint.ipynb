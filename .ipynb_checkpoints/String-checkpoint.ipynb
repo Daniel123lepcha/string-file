{
 "cells": [
  {
   "cell_type": "code",
   "execution_count": 2,
   "id": "1066f057",
   "metadata": {},
   "outputs": [
    {
     "data": {
      "text/plain": [
       "'hello'"
      ]
     },
     "execution_count": 2,
     "metadata": {},
     "output_type": "execute_result"
    }
   ],
   "source": [
    "\"hello\""
   ]
  },
  {
   "cell_type": "code",
   "execution_count": 4,
   "id": "5b491f71",
   "metadata": {},
   "outputs": [
    {
     "name": "stdout",
     "output_type": "stream",
     "text": [
      "hello\n"
     ]
    }
   ],
   "source": [
    "print ('hello')"
   ]
  },
  {
   "cell_type": "code",
   "execution_count": 8,
   "id": "c898600d",
   "metadata": {},
   "outputs": [
    {
     "name": "stdout",
     "output_type": "stream",
     "text": [
      "its a beautful day\n",
      "i want to go out\n"
     ]
    }
   ],
   "source": [
    "print ('its a beautful day\\ni want to go out')"
   ]
  },
  {
   "cell_type": "code",
   "execution_count": 9,
   "id": "c0e787d2",
   "metadata": {},
   "outputs": [
    {
     "name": "stdout",
     "output_type": "stream",
     "text": [
      "python uses indentation\t those are spaces\n"
     ]
    }
   ],
   "source": [
    "print ('python uses indentation\\t those are spaces')"
   ]
  },
  {
   "cell_type": "code",
   "execution_count": 10,
   "id": "fee5705f",
   "metadata": {},
   "outputs": [],
   "source": [
    "my_string = 'tuesday'"
   ]
  },
  {
   "cell_type": "code",
   "execution_count": 11,
   "id": "a40f2040",
   "metadata": {},
   "outputs": [
    {
     "data": {
      "text/plain": [
       "7"
      ]
     },
     "execution_count": 11,
     "metadata": {},
     "output_type": "execute_result"
    }
   ],
   "source": [
    "len (my_string)"
   ]
  },
  {
   "cell_type": "code",
   "execution_count": 13,
   "id": "c0c63e24",
   "metadata": {},
   "outputs": [
    {
     "data": {
      "text/plain": [
       "6"
      ]
     },
     "execution_count": 13,
     "metadata": {},
     "output_type": "execute_result"
    }
   ],
   "source": [
    "len ('Daniel')"
   ]
  },
  {
   "cell_type": "code",
   "execution_count": 14,
   "id": "d333cb0c",
   "metadata": {},
   "outputs": [],
   "source": [
    "my_string = \"hello world\""
   ]
  },
  {
   "cell_type": "code",
   "execution_count": 15,
   "id": "cb0f2050",
   "metadata": {},
   "outputs": [
    {
     "data": {
      "text/plain": [
       "'hello world'"
      ]
     },
     "execution_count": 15,
     "metadata": {},
     "output_type": "execute_result"
    }
   ],
   "source": [
    "my_string\n"
   ]
  },
  {
   "cell_type": "markdown",
   "id": "38a08f66",
   "metadata": {},
   "source": [
    " h   e  l  l  o\n",
    " 0   1  2  3  4\n",
    "-5  -4 -3 -2 -1"
   ]
  },
  {
   "cell_type": "code",
   "execution_count": 19,
   "id": "e003827a",
   "metadata": {},
   "outputs": [
    {
     "data": {
      "text/plain": [
       "'h'"
      ]
     },
     "execution_count": 19,
     "metadata": {},
     "output_type": "execute_result"
    }
   ],
   "source": [
    "my_string [0]"
   ]
  },
  {
   "cell_type": "code",
   "execution_count": 20,
   "id": "9e69c5c4",
   "metadata": {},
   "outputs": [
    {
     "data": {
      "text/plain": [
       "'l'"
      ]
     },
     "execution_count": 20,
     "metadata": {},
     "output_type": "execute_result"
    }
   ],
   "source": [
    "my_string [3]"
   ]
  },
  {
   "cell_type": "code",
   "execution_count": 21,
   "id": "efb0d852",
   "metadata": {},
   "outputs": [
    {
     "data": {
      "text/plain": [
       "'o'"
      ]
     },
     "execution_count": 21,
     "metadata": {},
     "output_type": "execute_result"
    }
   ],
   "source": [
    "my_string [-4]"
   ]
  },
  {
   "cell_type": "code",
   "execution_count": 23,
   "id": "e8aaa4a8",
   "metadata": {},
   "outputs": [],
   "source": [
    "#slicing [start\\stop this index will not be included\\step]"
   ]
  },
  {
   "cell_type": "code",
   "execution_count": 24,
   "id": "e455e531",
   "metadata": {},
   "outputs": [],
   "source": [
    "#(start\\stop)"
   ]
  },
  {
   "cell_type": "code",
   "execution_count": 28,
   "id": "99c225e6",
   "metadata": {},
   "outputs": [],
   "source": [
    "my_name = 'Daniellepcha'"
   ]
  },
  {
   "cell_type": "code",
   "execution_count": 29,
   "id": "c503abf9",
   "metadata": {},
   "outputs": [
    {
     "data": {
      "text/plain": [
       "'Daniellepcha'"
      ]
     },
     "execution_count": 29,
     "metadata": {},
     "output_type": "execute_result"
    }
   ],
   "source": [
    "my_name"
   ]
  },
  {
   "cell_type": "code",
   "execution_count": 30,
   "id": "623afe2f",
   "metadata": {},
   "outputs": [
    {
     "data": {
      "text/plain": [
       "'Dani'"
      ]
     },
     "execution_count": 30,
     "metadata": {},
     "output_type": "execute_result"
    }
   ],
   "source": [
    "my_name [0:4]"
   ]
  },
  {
   "cell_type": "code",
   "execution_count": 31,
   "id": "6bcf028f",
   "metadata": {},
   "outputs": [
    {
     "data": {
      "text/plain": [
       "'Danielle'"
      ]
     },
     "execution_count": 31,
     "metadata": {},
     "output_type": "execute_result"
    }
   ],
   "source": [
    "my_name [0:8]"
   ]
  },
  {
   "cell_type": "code",
   "execution_count": 32,
   "id": "c53ac236",
   "metadata": {},
   "outputs": [
    {
     "data": {
      "text/plain": [
       "'iellepcha'"
      ]
     },
     "execution_count": 32,
     "metadata": {},
     "output_type": "execute_result"
    }
   ],
   "source": [
    "my_name [3:]"
   ]
  },
  {
   "cell_type": "code",
   "execution_count": 33,
   "id": "99547d35",
   "metadata": {},
   "outputs": [
    {
     "data": {
      "text/plain": [
       "'Daniel'"
      ]
     },
     "execution_count": 33,
     "metadata": {},
     "output_type": "execute_result"
    }
   ],
   "source": [
    "my_name[:6]"
   ]
  },
  {
   "cell_type": "code",
   "execution_count": 34,
   "id": "176c8479",
   "metadata": {},
   "outputs": [
    {
     "data": {
      "text/plain": [
       "'nie'"
      ]
     },
     "execution_count": 34,
     "metadata": {},
     "output_type": "execute_result"
    }
   ],
   "source": [
    "my_name[2:5]"
   ]
  },
  {
   "cell_type": "code",
   "execution_count": 37,
   "id": "56328310",
   "metadata": {},
   "outputs": [
    {
     "data": {
      "text/plain": [
       "'Daniellepcha'"
      ]
     },
     "execution_count": 37,
     "metadata": {},
     "output_type": "execute_result"
    }
   ],
   "source": [
    "my_name [::1]"
   ]
  },
  {
   "cell_type": "code",
   "execution_count": 38,
   "id": "9edac576",
   "metadata": {},
   "outputs": [
    {
     "data": {
      "text/plain": [
       "'D'"
      ]
     },
     "execution_count": 38,
     "metadata": {},
     "output_type": "execute_result"
    }
   ],
   "source": [
    "my_name [0:2:7]"
   ]
  },
  {
   "cell_type": "code",
   "execution_count": 39,
   "id": "d5b099d0",
   "metadata": {},
   "outputs": [
    {
     "data": {
      "text/plain": [
       "'n'"
      ]
     },
     "execution_count": 39,
     "metadata": {},
     "output_type": "execute_result"
    }
   ],
   "source": [
    "my_name [2:5:8]"
   ]
  },
  {
   "cell_type": "code",
   "execution_count": 40,
   "id": "8ac9e7f5",
   "metadata": {},
   "outputs": [],
   "source": [
    "my_name ='Daniellepcha'"
   ]
  },
  {
   "cell_type": "code",
   "execution_count": 41,
   "id": "3706cfdb",
   "metadata": {},
   "outputs": [
    {
     "data": {
      "text/plain": [
       "'Daniellepcha'"
      ]
     },
     "execution_count": 41,
     "metadata": {},
     "output_type": "execute_result"
    }
   ],
   "source": [
    "my_name "
   ]
  },
  {
   "cell_type": "code",
   "execution_count": 43,
   "id": "79f9b0df",
   "metadata": {},
   "outputs": [
    {
     "data": {
      "text/plain": [
       "''"
      ]
     },
     "execution_count": 43,
     "metadata": {},
     "output_type": "execute_result"
    }
   ],
   "source": [
    "my_name [-1:3]"
   ]
  },
  {
   "cell_type": "code",
   "execution_count": null,
   "id": "1e57a009",
   "metadata": {},
   "outputs": [],
   "source": []
  }
 ],
 "metadata": {
  "kernelspec": {
   "display_name": "Python 3 (ipykernel)",
   "language": "python",
   "name": "python3"
  },
  "language_info": {
   "codemirror_mode": {
    "name": "ipython",
    "version": 3
   },
   "file_extension": ".py",
   "mimetype": "text/x-python",
   "name": "python",
   "nbconvert_exporter": "python",
   "pygments_lexer": "ipython3",
   "version": "3.10.9"
  }
 },
 "nbformat": 4,
 "nbformat_minor": 5
}
